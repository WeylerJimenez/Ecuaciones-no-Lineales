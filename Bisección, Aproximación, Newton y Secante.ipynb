{
 "cells": [
  {
   "cell_type": "markdown",
   "metadata": {},
   "source": [
    "## Weyler Jesus Jimenez Ucan\n",
    "## Miguel Benjamin Perez Suasnavar\n",
    "## Koyoc Tuz Limbert Adiel\n",
    "\n",
    "\n",
    "\n"
   ]
  },
  {
   "cell_type": "markdown",
   "metadata": {},
   "source": [
    "# Método de bisección"
   ]
  },
  {
   "cell_type": "code",
   "execution_count": 2,
   "metadata": {
    "scrolled": true
   },
   "outputs": [
    {
     "name": "stdout",
     "output_type": "stream",
     "text": [
      "Este programa encuentra una raíz, por el método de bisección\n",
      "Introduce el valor de xi:-2\n",
      "Introduce el valor de xs:2\n",
      "Introduce el error:.001\n",
      "Introduce las iteraciones maximas:20\n",
      "    i         xi        xs        xa      signo     cambio    error   \n",
      "    1       0.0000    2.0000    0.0000   positivo  inferior  -10.0000 \n",
      "    2       1.0000    2.0000    1.0000   positivo  inferior  -5.0000  \n",
      "    3       1.0000    1.5000    1.5000   negativo  superior   2.3750  \n",
      "    4       1.2500    1.5000    1.2500   positivo  inferior  -1.7969  \n",
      "    5       1.2500    1.3750    1.3750   negativo  superior   0.1621  \n",
      "    6       1.3125    1.3750    1.3125   positivo  inferior  -0.8484  \n",
      "    7       1.3438    1.3750    1.3438   positivo  inferior  -0.3510  \n",
      "    8       1.3594    1.3750    1.3594   positivo  inferior  -0.0964  \n",
      "    9       1.3594    1.3672    1.3672   negativo  superior   0.0324  \n",
      "    10      1.3633    1.3672    1.3633   positivo  inferior  -0.0321  \n",
      "    11      1.3633    1.3652    1.3652   negativo  superior   0.0001  \n",
      "La raíz es:  1.365234375\n"
     ]
    }
   ],
   "source": [
    "#Función para polinomios\n",
    "import math \n",
    "def poli(x):\n",
    "      y=pow(x,3)+(4*pow(x,2))-10\n",
    "      return (y)\n",
    "#Programa principal\n",
    "print (\"Este programa encuentra una raíz, por el método de bisección\")\n",
    "xi=float(input('Introduce el valor de xi:'))\n",
    "xs=float(input('Introduce el valor de xs:'))\n",
    "error=float((input('Introduce el error:')))\n",
    "iteraciones=float((input('Introduce las iteraciones maximas:')))\n",
    "xa = (xi+xs)/2.0\n",
    "i=0\n",
    "print(\"{:^10}{:^10}{:^10}{:^10}{:^10}{:^10}{:^10}\".format(\"i\",\"xi\",\"xs\",\"xa\",\"signo\",\"cambio\",\"error\"))\n",
    "while abs(poli(xa)) > error and i<iteraciones:\n",
    "    i=i+1\n",
    "    \n",
    "    xa = (xi+xs)/2.0\n",
    "    if poli(xi)*poli(xa) < 0:\n",
    "        xs=xa\n",
    "        signo=\"negativo\"\n",
    "        limite=\"superior\"\n",
    "    else:\n",
    "        xi=xa\n",
    "        signo=\"positivo\"\n",
    "        limite=\"inferior\"   \n",
    "    print(\"{:^10}{:^10.4f}{:^10.4f}{:^10.4f}{:^10}{:^10}{:^10.4f}\".format(i,float(xi),float(xs),float(xa),signo,limite,float(poli(xa))))\n",
    "print(\"La raíz es: \",xa)\n"
   ]
  },
  {
   "cell_type": "markdown",
   "metadata": {},
   "source": [
    "\n",
    "# Método de aproximación"
   ]
  },
  {
   "cell_type": "code",
   "execution_count": 130,
   "metadata": {},
   "outputs": [
    {
     "name": "stdout",
     "output_type": "stream",
     "text": [
      "    i         xi      ximas1      xr      error   \n",
      "    1       0.0000    1.0000   -0.6321    1.0000  \n",
      "    2       1.0000    0.3679    0.3243    1.7183  \n",
      "    3       0.3679    0.6922   -0.1917    0.4685  \n",
      "    4       0.6922    0.5005    0.1058    0.3831  \n",
      "    5       0.5005    0.6062   -0.0608    0.1745  \n",
      "    6       0.6062    0.5454    0.0342    0.1116  \n",
      "    7       0.5454    0.5796   -0.0195    0.0590  \n",
      "    8       0.5796    0.5601    0.0110    0.0348  \n",
      "    9       0.5601    0.5711   -0.0063    0.0193  \n",
      "    10      0.5711    0.5649    0.0035    0.0111  \n",
      "    11      0.5649    0.5684   -0.0020    0.0062  \n",
      "La raíz es:  0.568429\n"
     ]
    }
   ],
   "source": [
    "def poli(x):\n",
    "      y=math.exp(-x)-x\n",
    "      return (y)\n",
    "def deri(x):\n",
    "      y=math.exp(-x)\n",
    "      return (y)\n",
    "i=1\n",
    "iteraciones=20\n",
    "xi=0\n",
    "ximas1=1\n",
    "xr=poli(ximas1)\n",
    "cotaerror=0.01\n",
    "error=abs((ximas1-xi)/ximas1)\n",
    "print(\"{:^10}{:^10}{:^10}{:^10}{:^10}\".format(\"i\",\"xi\",\"ximas1\",\"xr\",\"error\"))\n",
    "print(\"{:^10}{:^10.4f}{:^10.4f}{:^10.4f}{:^10.4f}\".format(i,float(xi),float(ximas1),float(xr),error))\n",
    "while error > cotaerror and i<iteraciones:\n",
    "    i=i+1\n",
    "    \n",
    "    \n",
    "    xi=ximas1\n",
    "    ximas1=deri(xi)\n",
    "    xr=poli(ximas1)\n",
    "    error=abs((ximas1-xi)/ximas1)  \n",
    "    print(\"{:^10}{:^10.4f}{:^10.4f}{:^10.4f}{:^10.4f}\".format(i,float(xi),float(ximas1),float(xr),error))\n",
    "print(\"La raíz es: \",\"{:4f}\".format(ximas1))"
   ]
  },
  {
   "cell_type": "markdown",
   "metadata": {},
   "source": [
    "# Método de Newton"
   ]
  },
  {
   "cell_type": "code",
   "execution_count": 137,
   "metadata": {},
   "outputs": [
    {
     "name": "stdout",
     "output_type": "stream",
     "text": [
      "    i         xi      f(xi)     f'(xi)     xi+1     error   \n",
      "    1       0.0000    1.0000   -2.0000    0.5000    1.0000  \n",
      "    2       0.5000    0.1065   -1.6065    0.5663    0.1171  \n",
      "    3       0.5663    0.0013   -1.5676    0.5671    0.0015  \n",
      "    4       0.5671    0.0000   -1.5671    0.5671    0.0000  \n",
      "La raíz es:  0.567143\n"
     ]
    }
   ],
   "source": [
    "def poli(x):\n",
    "      y=math.exp(-x)-x\n",
    "      return (y)\n",
    "def deri(x):\n",
    "      y=-math.exp(-x)-1\n",
    "      return (y)\n",
    "\n",
    "i=1\n",
    "iteraciones=20\n",
    "xi=0\n",
    "fxi=poli(xi)\n",
    "fderx=deri(xi)\n",
    "ximas1=xi-(fxi/fderx)\n",
    "error=abs((ximas1-xi)/ximas1)\n",
    "cotaerror=0.001\n",
    "print(\"{:^10}{:^10}{:^10}{:^10}{:^10}{:^10}\".format(\"i\",\"xi\",\"f(xi)\",\"f'(xi)\",\"xi+1\",\"error\"))\n",
    "print(\"{:^10}{:^10.4f}{:^10.4f}{:^10.4f}{:^10.4f}{:^10.4f}\".format(i,float(xi),float(fxi),float(fderx),float(ximas1),error))\n",
    "while error > cotaerror and i<iteraciones:\n",
    "    i=i+1 \n",
    "    xi=ximas1\n",
    "    fxi=poli(xi)\n",
    "    fderx=deri(xi)\n",
    "    ximas1=xi-(fxi/fderx)\n",
    "    error=abs((ximas1-xi)/ximas1)  \n",
    "    print(\"{:^10}{:^10.4f}{:^10.4f}{:^10.4f}{:^10.4f}{:^10.4f}\".format(i,float(xi),float(fxi),float(fderx),float(ximas1),error))\n",
    "print(\"La raíz es: \",\"{:4f}\".format(ximas1))"
   ]
  },
  {
   "cell_type": "markdown",
   "metadata": {},
   "source": [
    "# Metodo de la secante"
   ]
  },
  {
   "cell_type": "code",
   "execution_count": 145,
   "metadata": {},
   "outputs": [
    {
     "name": "stdout",
     "output_type": "stream",
     "text": [
      "    i        xi-1       xi     f(xi-1)    f(xi)   (xi-1-xi)    xi+1     error   \n",
      "    1       0.0000    1.0000    0.0000   -0.6321   -1.0000    0.6127    0.6321  \n",
      "    2       1.0000    0.6127   -0.6321    0.0743    0.3873    0.6534    0.0624  \n",
      "    3       0.6127    0.6534    0.0743   -0.0010   -0.0407    0.6529    0.0008  \n",
      "La raíz es:  0.652917\n"
     ]
    }
   ],
   "source": [
    "def poli(x):\n",
    "      y=math.exp(-pow(x,2))-x\n",
    "      return (y)\n",
    "cotaerror=0.01\n",
    "xi=1\n",
    "ximenos1=0\n",
    "fximenos1=poli(ximenos1)\n",
    "fxi=poli(xi)\n",
    "ximenos1menosxi=ximenos1-xi\n",
    "ximas1=xi-((fxi*ximenos1menosxi)/(fximenos1-fxi))\n",
    "error=abs(ximas1-xi)/ximas1\n",
    "iteraciones=20\n",
    "i=1\n",
    "print(\"{:^10}{:^10}{:^10}{:^10}{:^10}{:^10}{:^10}{:^10}\".format(\"i\",\"xi-1\",\"xi\",\"f(xi-1)\",\"f(xi)\",\"(xi-1-xi)\",\"xi+1\",\"error\"))\n",
    "print(\"{:^10}{:^10.4f}{:^10.4f}{:^10.4f}{:^10.4f}{:^10.4f}{:^10.4f}{:^10.4f}\".format(i,float(ximenos1),float(xi),float(ximenos1),float(fxi),float(ximenos1menosxi),float(ximas1),float(error)))\n",
    "while error > cotaerror and i<iteraciones:\n",
    "    i=i+1  \n",
    "    ximenos1=xi\n",
    "    xi=ximas1\n",
    "    fximenos1=poli(ximenos1)\n",
    "    fxi=poli(xi)\n",
    "    ximenos1menosxi=ximenos1-xi\n",
    "    ximas1=xi-((fxi*ximenos1menosxi)/(fximenos1-fxi))\n",
    "    error=abs(ximas1-xi)/ximas1 \n",
    "    print(\"{:^10}{:^10.4f}{:^10.4f}{:^10.4f}{:^10.4f}{:^10.4f}{:^10.4f}{:^10.4f}\".format(i,float(ximenos1),float(xi),float(fximenos1),float(fxi),float(ximenos1menosxi),float(ximas1),float(error)))\n",
    "print(\"La raíz es: \",\"{:4f}\".format(ximas1))\n",
    "\n"
   ]
  },
  {
   "cell_type": "code",
   "execution_count": null,
   "metadata": {},
   "outputs": [],
   "source": []
  }
 ],
 "metadata": {
  "kernelspec": {
   "display_name": "Python 3",
   "language": "python",
   "name": "python3"
  },
  "language_info": {
   "codemirror_mode": {
    "name": "ipython",
    "version": 3
   },
   "file_extension": ".py",
   "mimetype": "text/x-python",
   "name": "python",
   "nbconvert_exporter": "python",
   "pygments_lexer": "ipython3",
   "version": "3.8.5"
  }
 },
 "nbformat": 4,
 "nbformat_minor": 4
}
